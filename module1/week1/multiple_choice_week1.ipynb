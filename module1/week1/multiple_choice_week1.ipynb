{
 "cells": [
  {
   "cell_type": "code",
   "execution_count": 2,
   "metadata": {},
   "outputs": [
    {
     "name": "stdout",
     "output_type": "stream",
     "text": [
      "0.31\n"
     ]
    }
   ],
   "source": [
    "# Question 1\n",
    "import math\n",
    "\n",
    "def calc_f1_score(tp, fp, fn):\n",
    "    \n",
    "    precision = tp / (tp + fp)\n",
    "    recall = tp / (tp + fn)\n",
    "\n",
    "    f1_score = 2 * (precision * recall) / (precision + recall)\n",
    "\n",
    "    return f1_score\n",
    "\n",
    "assert round(calc_f1_score(tp=2, fp=3, fn=5), 2) == 0.33\n",
    "print(round(calc_f1_score(tp=2, fp=4, fn=5), 2)) #0.31\n",
    "\n",
    "# Q1: Answer C\n"
   ]
  },
  {
   "cell_type": "code",
   "execution_count": 18,
   "metadata": {},
   "outputs": [
    {
     "name": "stdout",
     "output_type": "stream",
     "text": [
      "True\n",
      "False\n"
     ]
    }
   ],
   "source": [
    "# Question 2:\n",
    "\n",
    "def is_number(n):\n",
    "    try:\n",
    "        n = float(n)\n",
    "    except ValueError:\n",
    "        return False\n",
    "    return True\n",
    "\n",
    "assert is_number(3) == 1.0\n",
    "assert is_number('-2a') == 0.0\n",
    "print(is_number(1))\n",
    "print(is_number('n'))\n",
    "\n",
    "# Q2: Answer B"
   ]
  },
  {
   "cell_type": "code",
   "execution_count": 19,
   "metadata": {},
   "outputs": [
    {
     "name": "stdout",
     "output_type": "stream",
     "text": [
      "0.0\n"
     ]
    }
   ],
   "source": [
    "# Question 3:\n",
    "x = -2.0\n",
    "if x <= 0:\n",
    "    y = 0.0\n",
    "else:\n",
    "    y = x\n",
    "\n",
    "print(y)\n",
    "\n",
    "# Q3: Answer C"
   ]
  },
  {
   "cell_type": "code",
   "execution_count": 23,
   "metadata": {},
   "outputs": [
    {
     "name": "stdout",
     "output_type": "stream",
     "text": [
      "0.88\n"
     ]
    }
   ],
   "source": [
    "# Question 4:\n",
    "import math\n",
    "\n",
    "def calc_sig(x):\n",
    "    \n",
    "    return 1 / (1 + math.exp(-x))\n",
    "\n",
    "assert round(calc_sig(3), 2) == 0.95\n",
    "print(round(calc_sig(2), 2))\n",
    "\n",
    "# Q4: Answer A"
   ]
  },
  {
   "cell_type": "code",
   "execution_count": 27,
   "metadata": {},
   "outputs": [
    {
     "name": "stdout",
     "output_type": "stream",
     "text": [
      "-0.01\n"
     ]
    }
   ],
   "source": [
    "# Question 5:\n",
    "import math\n",
    "\n",
    "def calc_elu(x, alpha=0.01):\n",
    "    \n",
    "    if x <= 0:\n",
    "        return alpha * (math.exp(x) - 1)\n",
    "\n",
    "    return x\n",
    "\n",
    "assert round(calc_elu(1)) == 1\n",
    "print(round(calc_elu(-1), 2))\n",
    "\n",
    "# Q5: Answer B"
   ]
  },
  {
   "cell_type": "code",
   "execution_count": 30,
   "metadata": {},
   "outputs": [
    {
     "name": "stdout",
     "output_type": "stream",
     "text": [
      "0.95\n"
     ]
    }
   ],
   "source": [
    "# Question 6:\n",
    "import math\n",
    "\n",
    "def sigmoid(x):\n",
    "    return 1 / (1 + math.exp(-x))\n",
    "\n",
    "\n",
    "def relu(x):\n",
    "    if x <= 0:\n",
    "        return 0\n",
    "    return x\n",
    "\n",
    "def elu(x, alpha=0.01):\n",
    "    if x <= 0:\n",
    "        return alpha * (math.exp(x) - 1)\n",
    "\n",
    "    return x\n",
    "\n",
    "def calc_activation_func(x, act_name):\n",
    "    \n",
    "    if act_name == 'sigmoid':\n",
    "        return sigmoid(x)\n",
    "    elif act_name == 'relu':\n",
    "        return relu(x)\n",
    "    elif act_name == 'elu':\n",
    "        return elu(x)\n",
    "    else:\n",
    "        return 'Unknown activation function!'\n",
    "\n",
    "\n",
    "assert calc_activation_func(x=1, act_name='relu') == 1\n",
    "print(round(calc_activation_func(x=3, act_name='sigmoid'), 2))\n",
    "\n",
    "# Q6: Answer A"
   ]
  },
  {
   "cell_type": "code",
   "execution_count": 33,
   "metadata": {},
   "outputs": [
    {
     "name": "stdout",
     "output_type": "stream",
     "text": [
      "7\n"
     ]
    }
   ],
   "source": [
    "# Question 7:\n",
    "\n",
    "def calc_ae(y, y_hat):\n",
    "    return abs(y - y_hat)\n",
    "\n",
    "\n",
    "y = 1\n",
    "y_hat = 6\n",
    "\n",
    "assert calc_ae(y, y_hat) == 5\n",
    "\n",
    "y = 2\n",
    "y_hat = 9\n",
    "print(calc_ae(y, y_hat))\n",
    "\n",
    "# Q7: Answer A"
   ]
  },
  {
   "cell_type": "code",
   "execution_count": 34,
   "metadata": {},
   "outputs": [
    {
     "name": "stdout",
     "output_type": "stream",
     "text": [
      "1\n"
     ]
    }
   ],
   "source": [
    "# Question 8:\n",
    "\n",
    "def calc_se(y, y_hat):\n",
    "    return (y - y_hat)**2\n",
    "\n",
    "y = 4\n",
    "y_hat = 2\n",
    "assert calc_se(y, y_hat) == 4\n",
    "print(calc_se(2, 1))\n",
    "\n",
    "# Q8: Answer A"
   ]
  },
  {
   "cell_type": "code",
   "execution_count": 36,
   "metadata": {},
   "outputs": [
    {
     "name": "stdout",
     "output_type": "stream",
     "text": [
      "-1.0\n"
     ]
    }
   ],
   "source": [
    "# Question 9:\n",
    "\n",
    "def factorial(n):\n",
    "    if n <= 0:\n",
    "        return 1\n",
    "    return n * factorial(n - 1)\n",
    "\n",
    "\n",
    "\n",
    "def approx_cos(x, n=10):\n",
    "    result = 0\n",
    "\n",
    "    for i in range(n):\n",
    "        result += (-1)**i * (x**(2*i)) / (factorial(2*i))\n",
    "\n",
    "    return result\n",
    "\n",
    "assert round(approx_cos(x=1, n=10), 2) == 0.54\n",
    "print(round(approx_cos(x=3.14, n=19), 2))\n",
    "\n",
    "# Q9: Answer C"
   ]
  },
  {
   "cell_type": "code",
   "execution_count": 38,
   "metadata": {},
   "outputs": [
    {
     "name": "stdout",
     "output_type": "stream",
     "text": [
      "0.0016\n"
     ]
    }
   ],
   "source": [
    "# Question 10:\n",
    "def approx_sin(x, n=10):\n",
    "    result = 0\n",
    "\n",
    "    for i in range(n):\n",
    "        result += (-1)**i * (x**(2*i + 1)) / (factorial(2*i + 1))\n",
    "    return result\n",
    "\n",
    "\n",
    "assert round(approx_sin(x=1, n=10), 4) == 0.8415\n",
    "print(round(approx_sin(x=3.14, n=10), 4))\n",
    "\n",
    "# Q10: Answer A"
   ]
  },
  {
   "cell_type": "code",
   "execution_count": 40,
   "metadata": {},
   "outputs": [
    {
     "name": "stdout",
     "output_type": "stream",
     "text": [
      "11.53\n"
     ]
    }
   ],
   "source": [
    "# Question 11:\n",
    "\n",
    "def approx_sinh(x, n=10):\n",
    "    result = 0\n",
    "\n",
    "    for i in range(n):\n",
    "        result += x**(2*i + 1) / (factorial(2*i + 1))\n",
    "\n",
    "    return result\n",
    "\n",
    "\n",
    "assert round(approx_sinh(x=1, n=10), 2) == 1.18\n",
    "print(round(approx_sinh(x=3.14, n=10), 2))\n",
    "\n",
    "# Q11: Answer A"
   ]
  },
  {
   "cell_type": "code",
   "execution_count": 41,
   "metadata": {},
   "outputs": [
    {
     "name": "stdout",
     "output_type": "stream",
     "text": [
      "11.57\n"
     ]
    }
   ],
   "source": [
    "# Question 12:\n",
    "\n",
    "def approx_cosh(x, n=10):\n",
    "\n",
    "    result = 0\n",
    "\n",
    "    for i in range(n):\n",
    "        result += ( x**(2*i) ) / (factorial(2*i))\n",
    "\n",
    "\n",
    "    return result\n",
    "\n",
    "\n",
    "assert round(approx_cosh(x=1, n=10), 2) == 1.54\n",
    "print(round(approx_cosh(x=3.14, n=10), 2))\n",
    "\n",
    "# Q12: Answer A"
   ]
  },
  {
   "cell_type": "code",
   "execution_count": null,
   "metadata": {},
   "outputs": [],
   "source": [
    "# Question 13: Answer A"
   ]
  }
 ],
 "metadata": {
  "kernelspec": {
   "display_name": "pytorch",
   "language": "python",
   "name": "python3"
  },
  "language_info": {
   "codemirror_mode": {
    "name": "ipython",
    "version": 3
   },
   "file_extension": ".py",
   "mimetype": "text/x-python",
   "name": "python",
   "nbconvert_exporter": "python",
   "pygments_lexer": "ipython3",
   "version": "3.10.14"
  }
 },
 "nbformat": 4,
 "nbformat_minor": 2
}
