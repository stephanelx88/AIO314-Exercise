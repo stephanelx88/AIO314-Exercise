{
 "cells": [
  {
   "cell_type": "code",
   "execution_count": 1,
   "metadata": {},
   "outputs": [
    {
     "name": "stdout",
     "output_type": "stream",
     "text": [
      "connected\n"
     ]
    }
   ],
   "source": [
    "print('connected')"
   ]
  },
  {
   "cell_type": "code",
   "execution_count": 4,
   "metadata": {},
   "outputs": [
    {
     "name": "stdout",
     "output_type": "stream",
     "text": [
      "Print single variable (var1): str_var1\n",
      "Print more than one variables: var1=str_var1, var2= 3, var3= 15.5\n"
     ]
    }
   ],
   "source": [
    "var1 = 'str_var1'\n",
    "var2 = 3\n",
    "var3 = 15.5\n",
    "\n",
    "print('Print single variable (var1):', var1)\n",
    "print(f\"Print more than one variables: var1={var1}, var2= {var2}, var3= {var3}\")"
   ]
  },
  {
   "cell_type": "code",
   "execution_count": 45,
   "metadata": {},
   "outputs": [
    {
     "name": "stdout",
     "output_type": "stream",
     "text": [
      "tp and fp and fn must be greater than zero\n",
      "Precision is 0.75\n",
      "Recall is 0.6923076923076923\n",
      "F1-score is 0.7199999999999999\n",
      "tp must be int\n"
     ]
    }
   ],
   "source": [
    "# Check data type\n",
    "def is_int(val):\n",
    "    return type(val) == int\n",
    "\n",
    "\n",
    "# Write a function to compute F1-Score\n",
    "def assess_class_model(tp, fp, fn):\n",
    "    precision, recall, f1_score = None, None, None\n",
    "   \n",
    "    # Validate input data types\n",
    "    if (not is_int(tp)):\n",
    "        print('tp must be int')\n",
    "        return\n",
    "    if (not is_int(fp)):\n",
    "        print('fp must be int')\n",
    "        return\n",
    "    if (not is_int(fn)):\n",
    "        print('fp must be int')\n",
    "        return\n",
    "    \n",
    "    # Make sure all parameters are greater than zero\n",
    "    if (tp > 0) and (fp > 0) and (fn > 0):\n",
    "        precision = tp / (tp + fp)\n",
    "        recall = tp / (tp + fn)\n",
    "        f1_score = 2 * (precision*recall) / (precision + recall)\n",
    "\n",
    "        print((f\"Precision is {precision}\"))\n",
    "        print((f\"Recall is {recall}\"))\n",
    "        print((f\"F1-score is {f1_score}\"))\n",
    "\n",
    "    else:\n",
    "        print('tp and fp and fn must be greater than zero')\n",
    "        return\n",
    "\n",
    "\n",
    "\n",
    "\n",
    "# Test cases\n",
    "\n",
    "\n",
    "\n",
    "# assess_class_model(tp='d', fp=3, fn=4.3)\n",
    "assess_class_model(tp=0, fp=3, fn=4)\n",
    "assess_class_model(tp=9, fp=3, fn=4)\n",
    "assess_class_model (tp =2.1 , fp =3, fn =0)\n",
    "\n"
   ]
  },
  {
   "cell_type": "code",
   "execution_count": 69,
   "metadata": {},
   "outputs": [
    {
     "name": "stdout",
     "output_type": "stream",
     "text": [
      "belu is not supported.\n"
     ]
    }
   ],
   "source": [
    "import math\n",
    "# Implement a function to compute the value of x after going through 1 of 3 activation functions\n",
    "\n",
    "# Check if a value is a number\n",
    "def is_number(n):\n",
    "    try:\n",
    "        float(n)\n",
    "    except ValueError:\n",
    "        return False\n",
    "    return True\n",
    "\n",
    "def sigmoid(x):\n",
    "    result = 1 / (1 + math.exp(-x))\n",
    "\n",
    "    return result\n",
    "\n",
    "def relu(x):\n",
    "    if x <= 0:\n",
    "        return 0\n",
    "    return x\n",
    "\n",
    "def elu(x, alpha = 0.001):\n",
    "    if x <= 0:\n",
    "        return alpha * (math.exp(-x) - 1)\n",
    "    return x\n",
    "\n",
    "\n",
    "\n",
    "def compute_activation():\n",
    "\n",
    "    # Capture x from user input\n",
    "    x = input('Input x = ')\n",
    "    if (not is_number(x)):\n",
    "        print('x must be a number')\n",
    "        return\n",
    "    x = float(x)\n",
    "    \n",
    "    # Capture function_name from user input\n",
    "    function_name = input('Input activation function (sigmoid|relu|elu)')\n",
    "\n",
    "    if function_name == 'sigmoid':\n",
    "        print(f\"sigmoid: f({x}) = {sigmoid(x)}\")\n",
    "    elif function_name == 'relu':\n",
    "        print(f\"relu: f({x}) = {relu(x)}\")\n",
    "\n",
    "    elif function_name == 'elu':\n",
    "        print(f\"elu: f({x}) = {elu(x)}\")\n",
    "    else:\n",
    "        print(f'{function_name} is not supported.')\n",
    "\n",
    "\n",
    "compute_activation()\n",
    "\n"
   ]
  },
  {
   "cell_type": "code",
   "execution_count": 98,
   "metadata": {},
   "outputs": [
    {
     "name": "stdout",
     "output_type": "stream",
     "text": [
      "loss name: RMSE, sample: 0, pred: 1.311984813625604, target: 3.2329781934461876, loss: 1.9209933798205836\n",
      "loss name: RMSE, sample: 1, pred: 2.901861718536466, target: 3.2635893246631733, loss: 0.3617276061267072\n",
      "loss name: RMSE, sample: 2, pred: 4.537133923814674, target: 5.821540846738572, loss: 1.284406922923898\n",
      "loss name: RMSE, sample: 3, pred: 4.926775231019956, target: 6.610180391002002, loss: 1.6834051599820459\n",
      "loss name: RMSE, sample: 4, pred: 3.6603690123714916, target: 7.131088114246205, loss: 3.470719101874713\n",
      "loss name: RMSE, sample: 5, pred: 8.514914297422566, target: 1.7610328981312695, loss: 6.753881399291297\n",
      "loss name: RMSE, sample: 6, pred: 9.218293887684792, target: 0.5539118742379334, loss: 8.66438201344686\n",
      "loss name: RMSE, sample: 7, pred: 7.0937595005769385, target: 3.775317131137598, loss: 3.3184423694393406\n",
      "final RMSE: 3.4322447441131807\n"
     ]
    }
   ],
   "source": [
    "import math\n",
    "import random\n",
    "# Compute loss functions\n",
    "\n",
    "\n",
    "def MAE(predict, target):\n",
    "    return abs(predict - target)\n",
    "\n",
    "def MSE(predict, target):\n",
    "    return (predict - target)**2\n",
    "\n",
    "def compute_loss():\n",
    "    num_samples = input('Input number of samples (integer) which are generated:')\n",
    "\n",
    "    if (not num_samples.isnumeric()):\n",
    "        print('Number of samples must be an integer number')\n",
    "        return\n",
    "\n",
    "    num_samples = int(num_samples)\n",
    "\n",
    "    predicts = [random.uniform(0, 10) for _ in range(num_samples)]\n",
    "    targets = [random.uniform(0, 10) for _ in range(num_samples)]\n",
    "    # print(predicts)\n",
    "    # print(targets)\n",
    "\n",
    "    loss_name = input('Input loss name:')\n",
    "\n",
    "    LOSS_FUNCTION_NAMES = ['MAE', 'MSE', 'RMSE']\n",
    "    if loss_name in LOSS_FUNCTION_NAMES:\n",
    "        \n",
    "        sum_loss = 0\n",
    "        for i in range(num_samples):\n",
    "            output_str = f\"loss name: {loss_name}, \"\n",
    "            predict = predicts[i]\n",
    "            target = targets[i]\n",
    "            \n",
    "            if loss_name == 'MAE':\n",
    "                loss = MAE(predict, target)\n",
    "            elif loss_name == 'MSE':\n",
    "                loss = MSE(predict, target)\n",
    "            elif loss_name == 'RMSE':\n",
    "                loss = math.sqrt(MSE(predict, target))\n",
    "\n",
    "            output_str += f'sample: {i}, pred: {predict}, target: {target}, loss: {loss}'\n",
    "            print(output_str)\n",
    "\n",
    "            sum_loss += loss\n",
    "        \n",
    "        final_loss = sum_loss / num_samples\n",
    "        print(f\"final {loss_name}: {final_loss}\")\n",
    "    else:\n",
    "        print('Invalid regression loss function')\n",
    "\n",
    "compute_loss()"
   ]
  },
  {
   "cell_type": "code",
   "execution_count": 121,
   "metadata": {},
   "outputs": [
    {
     "name": "stdout",
     "output_type": "stream",
     "text": [
      "0.001592652393160744\n",
      "-0.9999987352210833\n",
      "11.530292029865986\n",
      "4.027673244765905e-10\n"
     ]
    }
   ],
   "source": [
    "import math\n",
    "\n",
    "# Factorial of n\n",
    "def fact(n):\n",
    "    if n <= 0:\n",
    "        return 1\n",
    "    return n * fact(n - 1)\n",
    "\n",
    "\n",
    "\n",
    "def approx_sin(x=3.14, n=10):\n",
    "    result = 0\n",
    "    for i in range(n):\n",
    "        result += (-1)**i * (x**(2*i + 1)) / (fact(2*i + 1))\n",
    "    return result\n",
    "\n",
    "def approx_cos(x=3.14, n=10):\n",
    "    result = 0\n",
    "    for i in range(n):\n",
    "        result += (-1)**i * (x**(2*i) ) / (fact(2*i))\n",
    "\n",
    "    return result\n",
    "\n",
    "def approx_sinh(x=3.14, n=10):\n",
    "    result = 0\n",
    "\n",
    "    for i in range(n):\n",
    "        result += (x**(2*i + 1)) / (fact(2*i + 1))\n",
    "\n",
    "    return result\n",
    "\n",
    "def approx_cosh(x=3.14, n=10):\n",
    "    result = 0\n",
    "\n",
    "    for i in range(n):\n",
    "        result += ( x**(2*i) ) / (fact(2*n))\n",
    "    \n",
    "    return result\n",
    "\n",
    "print(approx_sin())\n",
    "print(approx_cos())\n",
    "print(approx_sinh())\n",
    "print(approx_cosh())\n",
    "\n",
    "\n",
    "\n"
   ]
  },
  {
   "cell_type": "code",
   "execution_count": 124,
   "metadata": {},
   "outputs": [
    {
     "name": "stdout",
     "output_type": "stream",
     "text": [
      "0.025031328369998107\n",
      "0.03544417213033135\n"
     ]
    }
   ],
   "source": [
    "# Implement a function to calculate MD_nRE\n",
    "\n",
    "def md_nre_single_sample(y=100, y_hat=99.5, n=2, p=1):\n",
    "    result = (y**(1/n) - y_hat**(1/n))**p\n",
    "    \n",
    "    return result\n",
    "\n",
    "print(md_nre_single_sample())\n",
    "print(md_nre_single_sample(y=50, y_hat=49.5, n=2, p=1))\n"
   ]
  },
  {
   "cell_type": "code",
   "execution_count": null,
   "metadata": {},
   "outputs": [],
   "source": []
  }
 ],
 "metadata": {
  "kernelspec": {
   "display_name": "pytorch",
   "language": "python",
   "name": "python3"
  },
  "language_info": {
   "codemirror_mode": {
    "name": "ipython",
    "version": 3
   },
   "file_extension": ".py",
   "mimetype": "text/x-python",
   "name": "python",
   "nbconvert_exporter": "python",
   "pygments_lexer": "ipython3",
   "version": "3.10.14"
  }
 },
 "nbformat": 4,
 "nbformat_minor": 2
}
