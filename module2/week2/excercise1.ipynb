{
 "cells": [
  {
   "cell_type": "code",
   "execution_count": 2,
   "metadata": {},
   "outputs": [
    {
     "name": "stdout",
     "output_type": "stream",
     "text": [
      "23.28\n"
     ]
    }
   ],
   "source": [
    "import numpy as np\n",
    "\n",
    "\n",
    "def compute_vector_length(vector):\n",
    "\n",
    "    return np.linalg.norm(vector)\n",
    "\n",
    "\n",
    "# v = np.array([2, 3])\n",
    "# print(compute_vector_length(v) == np.sqrt(13))\n",
    "\n",
    "vector = np.array([-2, 4, 9, 21])\n",
    "result = compute_vector_length(vector)\n",
    "print(round(result, 2))"
   ]
  },
  {
   "cell_type": "code",
   "execution_count": 3,
   "metadata": {},
   "outputs": [
    {
     "name": "stdout",
     "output_type": "stream",
     "text": [
      "4\n"
     ]
    }
   ],
   "source": [
    "# Dot product of 2 vectors\n",
    "def compute_dot_product(v1, v2):\n",
    "    return np.dot(v1, v2)\n",
    "\n",
    "# Tests\n",
    "v1 = np.array([0, 1, -1, 2])\n",
    "v2 = np.array([2, 5, 1, 0])\n",
    "\n",
    "print(compute_dot_product(v1,v2))"
   ]
  },
  {
   "cell_type": "code",
   "execution_count": 4,
   "metadata": {},
   "outputs": [
    {
     "name": "stdout",
     "output_type": "stream",
     "text": [
      "[ 5 11]\n"
     ]
    }
   ],
   "source": [
    "x = np.arange(1, 5).reshape(2, 2)\n",
    "k = np.array([1, 2])\n",
    "print(x.dot(k))"
   ]
  },
  {
   "cell_type": "code",
   "execution_count": 6,
   "metadata": {},
   "outputs": [
    {
     "name": "stdout",
     "output_type": "stream",
     "text": [
      "[ 3 -5]\n",
      "[ 3 -5]\n"
     ]
    }
   ],
   "source": [
    "x = np.array([\n",
    "    [-1, 2],\n",
    "    [3, -4]\n",
    "])\n",
    "k = np.array([1, 2])\n",
    "print(x@k)\n",
    "print(x.dot(k))"
   ]
  },
  {
   "cell_type": "code",
   "execution_count": 8,
   "metadata": {},
   "outputs": [
    {
     "name": "stdout",
     "output_type": "stream",
     "text": [
      "[[-1  1  1]\n",
      " [ 0 -4  9]]\n",
      "[0 2 1]\n",
      "[3 1]\n"
     ]
    }
   ],
   "source": [
    "# Matrix and vector multiplication\n",
    "def matrix_mult_vector(matrix, vector):\n",
    "\n",
    "    return matrix.dot(vector)\n",
    "\n",
    "# Tests\n",
    "\n",
    "matrix = np.array([\n",
    "    [-1, 1, 1],\n",
    "    [0, -4, 9]\n",
    "])\n",
    "print(matrix)\n",
    "vector = np.array([0, 2, 1])\n",
    "print(vector)\n",
    "\n",
    "print(matrix_mult_vector(matrix, vector))"
   ]
  },
  {
   "cell_type": "code",
   "execution_count": 9,
   "metadata": {},
   "outputs": [
    {
     "name": "stdout",
     "output_type": "stream",
     "text": [
      "[[ 0  1  2]\n",
      " [ 2 -3  1]]\n",
      "[[ 1 -3]\n",
      " [ 6  1]\n",
      " [ 0 -1]]\n",
      "[[  6  -1]\n",
      " [-16 -10]]\n"
     ]
    }
   ],
   "source": [
    "# Matrix and matrix multiplication\n",
    "def matrix_mult_matrix(m1, m2):\n",
    "\n",
    "    return np.matmul(m1, m2)\n",
    "\n",
    "# Tests\n",
    "\n",
    "m1 = np.array([\n",
    "    [0, 1, 2],\n",
    "    [2, -3, 1]\n",
    "])\n",
    "m2 = np.array([\n",
    "    [1, -3],\n",
    "    [6, 1],\n",
    "    [0, -1]\n",
    "])\n",
    "print(m1)\n",
    "print(m2)\n",
    "\n",
    "print(matrix_mult_matrix(m1, m2))"
   ]
  },
  {
   "cell_type": "code",
   "execution_count": 13,
   "metadata": {},
   "outputs": [
    {
     "name": "stdout",
     "output_type": "stream",
     "text": [
      "[[1. 0. 0.]\n",
      " [0. 1. 0.]\n",
      " [0. 0. 1.]]\n",
      "[[1 1 1]\n",
      " [2 2 2]\n",
      " [3 3 3]]\n",
      "[[1. 1. 1.]\n",
      " [2. 2. 2.]\n",
      " [3. 3. 3.]]\n"
     ]
    }
   ],
   "source": [
    "m1 = np.eye(3)\n",
    "print(m1)\n",
    "\n",
    "m2 = np.array([\n",
    "    [1]*3,\n",
    "    [2]*3,\n",
    "    [3]*3\n",
    "])\n",
    "\n",
    "print(m2)\n",
    "\n",
    "print(m1@m2)"
   ]
  },
  {
   "cell_type": "code",
   "execution_count": 24,
   "metadata": {},
   "outputs": [
    {
     "name": "stdout",
     "output_type": "stream",
     "text": [
      "[[1. 0.]\n",
      " [0. 1.]] (2, 2)\n",
      "[1. 0. 0. 1.]\n",
      "<class 'numpy.ndarray'>\n",
      "[[1 1 1 1]\n",
      " [2 2 2 2]\n",
      " [3 3 3 3]\n",
      " [4 4 4 4]]\n",
      "[5. 5. 5. 5.]\n"
     ]
    }
   ],
   "source": [
    "m1 = np.eye(2)\n",
    "print(m1, m1.shape)\n",
    "m1 = np.reshape(m1, (-1, 4))[0]\n",
    "print(m1)\n",
    "print(type(m1))\n",
    "m2 = np.array([\n",
    "    [1]*4,\n",
    "    [2]*4,\n",
    "    [3]*4,\n",
    "    [4]*4\n",
    "])\n",
    "\n",
    "print(m2)\n",
    "print(m1@m2)"
   ]
  },
  {
   "cell_type": "code",
   "execution_count": 28,
   "metadata": {},
   "outputs": [
    {
     "name": "stdout",
     "output_type": "stream",
     "text": [
      "[29 29 29 29]\n"
     ]
    }
   ],
   "source": [
    "m1 = np.array([[1, 2], [3, 4]])\n",
    "m1 = np.reshape(m1, (-1, 4), \"F\")[0]\n",
    "m2 = np.array([\n",
    "    [1]*4,\n",
    "    [2]*4,\n",
    "    [3]*4,\n",
    "    [4]*4\n",
    "])\n",
    "print(m1@m2)"
   ]
  },
  {
   "cell_type": "code",
   "execution_count": 21,
   "metadata": {},
   "outputs": [
    {
     "name": "stdout",
     "output_type": "stream",
     "text": [
      "[[0.1  0.15]\n",
      " [0.2  0.05]]\n"
     ]
    }
   ],
   "source": [
    "# Inverse matrix\n",
    "\n",
    "def inverse_matrix(m):\n",
    "    det = np.linalg.det(m)\n",
    "\n",
    "    return np.linalg.inv(m)\n",
    "\n",
    "m = np.array([\n",
    "    [-2, 6],\n",
    "    [8, -4]\n",
    "])\n",
    "\n",
    "\n",
    "print(inverse_matrix(m))\n",
    "\n"
   ]
  },
  {
   "cell_type": "markdown",
   "metadata": {},
   "source": [
    "# Eigenvector and eigenvalues:\n",
    "- $\\textbf{A} \\in R^{n*n}$, $\\textbf{I}$(identity matrix) $\\in R^{n*n}, \\textbf{v} \\in R^n$\n",
    "- Eigenvalue $(\\lambda)$: $det(\\textbf{A} - \\lambda \\textbf{I})$ = 0\n",
    "- Engenvector $(\\textbf{v}): \\textbf{Av} = \\lambda\\textbf{v} \\iff (\\textbf{A} - \\lambda\\textbf{I})\\textbf{v} = 0$\n",
    "- Normalized vector: $\\frac{\\textbf{v}}{\\|\\textbf{v}\\|}$, $v_{i} = \\frac{v_{i}}{\\sqrt{\\sum_{i=1}^{n} v_i^2}}$\n",
    "\n",
    "$A = \\begin{bmatrix}\n",
    "    0.9 & 0.2\\\\\n",
    "    0.1 & 0.8\n",
    "\\end{bmatrix}$"
   ]
  },
  {
   "cell_type": "code",
   "execution_count": 25,
   "metadata": {},
   "outputs": [
    {
     "name": "stdout",
     "output_type": "stream",
     "text": [
      "(array([1. , 0.7]), array([[ 0.89442719, -0.70710678],\n",
      "       [ 0.4472136 ,  0.70710678]]))\n"
     ]
    }
   ],
   "source": [
    "def compute_eigenvalues_eigenvectors(matrix):\n",
    "    # print('eigenvalues', np.linalg.eigvals(matrix))\n",
    "\n",
    "    return np.linalg.eig(matrix)\n",
    "\n",
    "matrix = np.array([\n",
    "    [0.9, 0.2],\n",
    "    [0.1, 0.8]\n",
    "])\n",
    "\n",
    "print(compute_eigenvalues_eigenvectors(matrix))\n"
   ]
  },
  {
   "cell_type": "markdown",
   "metadata": {},
   "source": [
    "# Cosine Similarity\n",
    "\n",
    "- Data (vector $\\textbf{x}, \\textbf{y}$): $\\textbf{x} = \\{x_1, ..., x_N\\}$ $\\textbf{y} = \\{y_1,..., y_N\\}$\n",
    "\n",
    "- Cosine Similarity $cs(\\textbf{x}, \\textbf{y}) = \\frac{\\textbf{x}.\\textbf{y}}{\\|\\textbf{x}\\| \\|\\textbf{y}\\|} = \\frac{\\sum_{1}^{n}x_iy_i}{\\sqrt{\\sum_{1}^{n}x_i^2} \\sqrt{\\sum_{1}^{n}y_i^2}}$"
   ]
  },
  {
   "cell_type": "code",
   "execution_count": 26,
   "metadata": {},
   "outputs": [
    {
     "name": "stdout",
     "output_type": "stream",
     "text": [
      "0.5773502691896257\n"
     ]
    }
   ],
   "source": [
    "# Cosine similarity\n",
    "def compute_cosine(v1, v2):\n",
    "    dot_product = np.dot(v1, v2)\n",
    "    distance_product = np.linalg.norm(v1) * np.linalg.norm(v2)\n",
    "\n",
    "    return dot_product/distance_product\n",
    "\n",
    "x = np.array([1, 2, 3, 4])\n",
    "y = np.array([1, 0, 3, 0])\n",
    "\n",
    "print(compute_cosine(x, y))"
   ]
  },
  {
   "cell_type": "code",
   "execution_count": null,
   "metadata": {},
   "outputs": [],
   "source": []
  }
 ],
 "metadata": {
  "kernelspec": {
   "display_name": "base",
   "language": "python",
   "name": "python3"
  },
  "language_info": {
   "codemirror_mode": {
    "name": "ipython",
    "version": 3
   },
   "file_extension": ".py",
   "mimetype": "text/x-python",
   "name": "python",
   "nbconvert_exporter": "python",
   "pygments_lexer": "ipython3",
   "version": "3.10.9"
  }
 },
 "nbformat": 4,
 "nbformat_minor": 2
}
