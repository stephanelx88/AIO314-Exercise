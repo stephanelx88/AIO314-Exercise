{
 "cells": [
  {
   "cell_type": "code",
   "execution_count": 2,
   "metadata": {},
   "outputs": [
    {
     "name": "stdout",
     "output_type": "stream",
     "text": [
      "6\n",
      "6\n"
     ]
    }
   ],
   "source": [
    "# Question 11:\n",
    "\n",
    "import numpy as np\n",
    "import math\n",
    "\n",
    "def gaussian(x, mean, variance):\n",
    "    \n",
    "    return (1.0/np.sqrt(2*math.pi*variance)) * np.exp(-(x-mean)**2 / (2*variance))\n",
    "\n",
    "# Train data\n",
    "x_train_group_0 = np.array([1.4, 1.0, 1.3, 1.9, 2.0, 1.8])\n",
    "x_train_group_1 = np.array([3.0, 3.8, 4.1, 3.9, 4.2, 3.4])\n",
    "print(len(x_train_group_0))\n",
    "print(len(x_train_group_1))"
   ]
  },
  {
   "cell_type": "code",
   "execution_count": 3,
   "metadata": {},
   "outputs": [
    {
     "name": "stdout",
     "output_type": "stream",
     "text": [
      "mean group 0: 1.5666666666666667\n",
      "var group 0: 0.1288888888888889\n",
      "mean group 1: 3.733333333333333\n",
      "var group 1: 0.1722222222222222\n"
     ]
    }
   ],
   "source": [
    "mean_group_0 = x_train_group_0.mean()\n",
    "var_group_0 = x_train_group_0.var()\n",
    "print('mean group 0:', mean_group_0)\n",
    "print('var group 0:', var_group_0)\n",
    "\n",
    "mean_group_1 = x_train_group_1.mean()\n",
    "var_group_1 = x_train_group_1.var()\n",
    "\n",
    "print('mean group 1:', mean_group_1)\n",
    "print('var group 1:', var_group_1)\n"
   ]
  },
  {
   "cell_type": "code",
   "execution_count": 4,
   "metadata": {},
   "outputs": [
    {
     "name": "stdout",
     "output_type": "stream",
     "text": [
      "total [[0.34813043]]\n",
      "pdf group 0: [[1.20808206e-06]]\n",
      "pdf group 1: [[0.34812922]]\n"
     ]
    }
   ],
   "source": [
    "# Predict\n",
    "x_test = np.array([[3.4]])\n",
    "\n",
    "pdf_group_0_x = gaussian(x_test, mean_group_0, var_group_0)\n",
    "pdf_group_1_x = gaussian(x_test, mean_group_1, var_group_1)\n",
    "\n",
    "p0, p1 = 0.5, 0.5\n",
    "\n",
    "total = pdf_group_0_x * 0.5 + pdf_group_1_x * 0.5\n",
    "print('total', total)\n",
    "# print('testing pdf group 0', pdf_group_0_x)\n",
    "# print('testing pdf group 1', pdf_group_1_x)\n",
    "\n",
    "\n",
    "# Normalize\n",
    "pdf_group_0_x = pdf_group_0_x * p0\n",
    "pdf_group_1_x = pdf_group_1_x * p1\n",
    "\n",
    "\n",
    "print('pdf group 0:', pdf_group_0_x)\n",
    "print('pdf group 1:', pdf_group_1_x)"
   ]
  },
  {
   "cell_type": "code",
   "execution_count": 5,
   "metadata": {},
   "outputs": [
    {
     "name": "stdout",
     "output_type": "stream",
     "text": [
      "[['Sunny' 'Hot' 'High' 'Weak' 'no']\n",
      " ['Sunny' 'Hot' 'High' 'Strong' 'no']\n",
      " ['Overcast' 'Hot' 'High' 'Weak' 'yes']\n",
      " ['Rain' 'Mild' 'High' 'Weak' 'yes']\n",
      " ['Rain' 'Cool' 'Normal' 'Weak' 'yes']\n",
      " ['Rain' 'Cool' 'Normal' 'Strong' 'no']\n",
      " ['Overcast' 'Cool' 'Normal' 'Strong' 'yes']\n",
      " ['Overcast' 'Mild' 'High' 'Weak' 'no']\n",
      " ['Sunny' 'Cool' 'Normal' 'Weak' 'yes']\n",
      " ['Rain' 'Mild' 'Normal' 'Weak' 'yes']]\n"
     ]
    }
   ],
   "source": [
    "# PLAY TENNIS CLASSIFIER\n",
    "\n",
    "###############\n",
    "# Create dataset\n",
    "###############\n",
    "import numpy as np\n",
    "\n",
    "def create_train_dataset():\n",
    "    data_string = [\n",
    "        'Sunny Hot High Weak no',\n",
    "        'Sunny Hot High Strong no',\n",
    "        'Overcast Hot High Weak yes',\n",
    "        'Rain Mild High Weak yes',\n",
    "        'Rain Cool Normal Weak yes',\n",
    "        'Rain Cool Normal Strong no',\n",
    "        'Overcast Cool Normal Strong yes',\n",
    "        'Overcast Mild High Weak no',\n",
    "        'Sunny Cool Normal Weak yes',\n",
    "        'Rain Mild Normal Weak yes'\n",
    "    ]\n",
    "    data = [string.split(' ') for string in data_string]\n",
    "\n",
    "    return np.array(data)\n",
    "\n",
    "train_data = create_train_dataset()\n",
    "print(train_data)"
   ]
  },
  {
   "cell_type": "code",
   "execution_count": 15,
   "metadata": {},
   "outputs": [
    {
     "name": "stdout",
     "output_type": "stream",
     "text": [
      "[0.4 0.6]\n",
      "P(play tennis = No): 0.4\n",
      "P(play tennis = Yes): 0.6\n"
     ]
    }
   ],
   "source": [
    "# Step 2: Compute prior probabilities\n",
    "\n",
    "def compute_prior_probabilities(train_data):\n",
    "    y_unique = ['no', 'yes']\n",
    "    \n",
    "    # Create an array to store probablities\n",
    "    prior_probs = np.zeros(len(y_unique))\n",
    "    \n",
    "    for i in range(len(y_unique)):\n",
    "        target = y_unique[i]\n",
    "        prior_probs[i] = np.sum(train_data[:, -1] == target) / len(train_data)\n",
    "\n",
    "    return prior_probs\n",
    "\n",
    "\n",
    "print(compute_prior_probabilities(train_data))\n",
    "print(\"P(play tennis = No):\", compute_prior_probabilities(train_data)[0])\n",
    "print(\"P(play tennis = Yes):\", compute_prior_probabilities(train_data)[1])\n",
    "\n"
   ]
  },
  {
   "cell_type": "code",
   "execution_count": 63,
   "metadata": {},
   "outputs": [
    {
     "name": "stdout",
     "output_type": "stream",
     "text": [
      "x1 = ['Overcast' 'Rain' 'Sunny']\n",
      "x2 = ['Cool' 'Hot' 'Mild']\n",
      "x3 = ['High' 'Normal']\n",
      "x4 = ['Strong' 'Weak']\n"
     ]
    }
   ],
   "source": [
    "def compute_conditional_probability(train_data):\n",
    "    y_unique = np.unique(train_data[:, -1])\n",
    "\n",
    "    # Initialize condition probabilities\n",
    "    conditional_probs = []\n",
    "    \n",
    "    # Store unique values of x for each column\n",
    "    list_x_names = []\n",
    "    \n",
    "    # Find unique values for each column\n",
    "    for i in range(train_data.shape[1] - 1): # i =index colum\n",
    "        x_unique = np.unique(train_data[:, i])\n",
    "        list_x_names.append(x_unique)\n",
    "\n",
    "        # compute conditionla probs\n",
    "        x_conditional_probs = np.zeros((len(y_unique), len(x_unique)))\n",
    "        \n",
    "        for j in range(len(y_unique)):\n",
    "            for k in range(len(x_unique)):\n",
    "                x_conditional_probs[j, k] = len(np.where((train_data[:, i] == x_unique[k]) &\\\n",
    "                                            (train_data[:, -1] == y_unique[j]))[0])\\\n",
    "                                            / len(np.where(train_data[:, -1] == y_unique[j])[0])\n",
    "                                            \n",
    "    \n",
    "        conditional_probs.append(x_conditional_probs)\n",
    "\n",
    "    return conditional_probs, list_x_names\n",
    "\n",
    "\n",
    "train_data = create_train_dataset()\n",
    "_, list_x_name = compute_conditional_probability(train_data)\n",
    "print(\"x1 =\", list_x_name[0])\n",
    "print(\"x2 =\", list_x_name[1])\n",
    "print(\"x3 =\", list_x_name[2])\n",
    "print(\"x4 =\", list_x_name[3])\n",
    "\n"
   ]
  },
  {
   "cell_type": "code",
   "execution_count": null,
   "metadata": {},
   "outputs": [],
   "source": [
    "# switch dong thanh coit"
   ]
  },
  {
   "cell_type": "code",
   "execution_count": 64,
   "metadata": {},
   "outputs": [
    {
     "data": {
      "text/plain": [
       "(array([0.4, 0.6]),\n",
       " [array([[0.25      , 0.25      , 0.5       ],\n",
       "         [0.33333333, 0.5       , 0.16666667]]),\n",
       "  array([[0.25      , 0.5       , 0.25      ],\n",
       "         [0.5       , 0.16666667, 0.33333333]]),\n",
       "  array([[0.75      , 0.25      ],\n",
       "         [0.33333333, 0.66666667]]),\n",
       "  array([[0.5       , 0.5       ],\n",
       "         [0.16666667, 0.83333333]])],\n",
       " [array(['Overcast', 'Rain', 'Sunny'], dtype='<U8'),\n",
       "  array(['Cool', 'Hot', 'Mild'], dtype='<U8'),\n",
       "  array(['High', 'Normal'], dtype='<U8'),\n",
       "  array(['Strong', 'Weak'], dtype='<U8')])"
      ]
     },
     "execution_count": 64,
     "metadata": {},
     "output_type": "execute_result"
    }
   ],
   "source": [
    "def train_naive_bayes(train_data):\n",
    "    # Step 1: compute prior probabilities\n",
    "    prior_probs = compute_prior_probabilities(train_data)\n",
    "\n",
    "    # Step 2: compute conditional probabilities\n",
    "    conditional_probs, list_x_name = compute_conditional_probability(train_data)\n",
    "\n",
    "\n",
    "    return prior_probs, conditional_probs, list_x_name\n",
    "\n",
    "\n",
    "train_naive_bayes(train_data)"
   ]
  },
  {
   "cell_type": "code",
   "execution_count": 65,
   "metadata": {},
   "outputs": [
    {
     "name": "stdout",
     "output_type": "stream",
     "text": [
      "0 1 2\n"
     ]
    }
   ],
   "source": [
    "def get_index_from_value(feature_name, list_features):\n",
    "\n",
    "    return np.where(list_features == feature_name)[0][0]\n",
    "\n",
    "\n",
    "train_data = create_train_dataset()\n",
    "conditional_probs, list_x_name = compute_conditional_probability(train_data)\n",
    "outlook = list_x_name[0]\n",
    "\n",
    "i1 = get_index_from_value('Overcast', outlook)\n",
    "i2 = get_index_from_value('Rain', outlook)\n",
    "i3 = get_index_from_value('Sunny', outlook)\n",
    "print(i1, i2, i3)\n",
    "\n"
   ]
  },
  {
   "cell_type": "code",
   "execution_count": 59,
   "metadata": {},
   "outputs": [
    {
     "name": "stdout",
     "output_type": "stream",
     "text": [
      "[array([[0.25      , 0.25      , 0.5       ],\n",
      "       [0.33333333, 0.5       , 0.16666667]]), array([[0.25      , 0.5       , 0.25      ],\n",
      "       [0.5       , 0.16666667, 0.33333333]]), array([[0.75      , 0.25      ],\n",
      "       [0.33333333, 0.66666667]]), array([[0.5       , 0.5       ],\n",
      "       [0.16666667, 0.83333333]])]\n"
     ]
    }
   ],
   "source": [
    "print(conditional_probs)"
   ]
  },
  {
   "cell_type": "code",
   "execution_count": 69,
   "metadata": {},
   "outputs": [
    {
     "name": "stdout",
     "output_type": "stream",
     "text": [
      "0.17\n"
     ]
    }
   ],
   "source": [
    "index_yes = 1\n",
    "\n",
    "\n",
    "print(round(conditional_probs[0][1, i3], 2))"
   ]
  },
  {
   "cell_type": "code",
   "execution_count": 72,
   "metadata": {},
   "outputs": [
    {
     "name": "stdout",
     "output_type": "stream",
     "text": [
      "0.3333333333333333\n"
     ]
    }
   ],
   "source": [
    "x2 = get_index_from_value('Sunny', list_x_name[0])\n",
    "print(conditional_probs[1][1, x2])"
   ]
  },
  {
   "cell_type": "code",
   "execution_count": 62,
   "metadata": {},
   "outputs": [
    {
     "name": "stdout",
     "output_type": "stream",
     "text": [
      "('no', 0.018750000000000003)\n"
     ]
    }
   ],
   "source": [
    "def predict(x, list_x_name, prior_probs, conditional_probs):\n",
    "    x1 = get_index_from_value(x[0], list_x_name[0])\n",
    "    x2 = get_index_from_value(x[1], list_x_name[1])\n",
    "    x3 = get_index_from_value(x[2], list_x_name[2])\n",
    "    x4 = get_index_from_value(x[3], list_x_name[3])\n",
    "\n",
    "    p0 = prior_probs[0] * conditional_probs[0][0, x1]\\\n",
    "                        * conditional_probs[1][0, x2]\\\n",
    "                        * conditional_probs[2][0, x3]\\\n",
    "                        * conditional_probs[3][0, x4]\n",
    "\n",
    "    p1 = prior_probs[1] * conditional_probs[0][1, x1]\\\n",
    "                        * conditional_probs[1][1, x2]\\\n",
    "                        * conditional_probs[2][1, x3]\\\n",
    "                        * conditional_probs[3][1, x4]             \n",
    "    \n",
    "    if p0 > p1:\n",
    "        y_pred = 'no', p0\n",
    "    else:\n",
    "        y_pred = 'yes', p0\n",
    "\n",
    "    return y_pred\n",
    "\n",
    "\n",
    "                        \n",
    "    \n",
    "\n",
    "\n",
    "\n",
    "x = ['Sunny', 'Cool', 'High', 'Strong']\n",
    "\n",
    "prior_probs = compute_prior_probabilities(train_data)\n",
    "print(predict(x, list_x_name, prior_probs, conditional_probs))"
   ]
  },
  {
   "cell_type": "code",
   "execution_count": null,
   "metadata": {},
   "outputs": [],
   "source": []
  }
 ],
 "metadata": {
  "kernelspec": {
   "display_name": "Python 3",
   "language": "python",
   "name": "python3"
  },
  "language_info": {
   "codemirror_mode": {
    "name": "ipython",
    "version": 3
   },
   "file_extension": ".py",
   "mimetype": "text/x-python",
   "name": "python",
   "nbconvert_exporter": "python",
   "pygments_lexer": "ipython3",
   "version": "3.12.4"
  }
 },
 "nbformat": 4,
 "nbformat_minor": 2
}
